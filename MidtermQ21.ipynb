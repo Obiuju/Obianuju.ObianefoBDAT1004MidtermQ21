{
 "cells": [
  {
   "cell_type": "markdown",
   "id": "8a305a76-e2df-47cf-bbd2-580bf7ec2114",
   "metadata": {},
   "source": [
    "# Question 21\n",
    "\n",
    "In a jupyter notebook solve the following question. Please upload the notebook to GitHub and provide the link submission box below.\n",
    "\n",
    "__int()__: Constructor that takes as input a pair of Point objects that represent the ends points of the line segment\n",
    "Length():: returns the length if the segment \n",
    "Slope() returns the slope of the segment of none if the slope is unbounded \n",
    "\n",
    ">>> p1 = Point(3,4)\n",
    ">>> p2 = Point()\n",
    ">>> s = Segment(p1,p2)\n",
    ">>> s.length()\n",
    "5.0\n",
    ">>> s.slope()\n",
    "0.75"
   ]
  },
  {
   "cell_type": "code",
   "execution_count": 28,
   "id": "30f0d3c3-bd90-40d8-94e7-cb03e3b71466",
   "metadata": {},
   "outputs": [],
   "source": [
    "# Answer\n",
    "import math\n",
    "\n",
    "class Point:\n",
    "    'Class that represents a point of the line segment'\n",
    "\n",
    "    def __init__(self, xcoord=0, ycoord=0):\n",
    "        'Initialize coordinates to (xcoord, ycoord)'\n",
    "        self.x = xcoord\n",
    "        self.y = ycoord\n",
    "\n",
    "class Segment:\n",
    "    def __init__(self, p1, p2):\n",
    "        'Initializing segment with two points'\n",
    "        self.p1 = p1\n",
    "        self.p2 = p2\n",
    "\n",
    "    def length(self):\n",
    "        'Calculating the length of the segment'\n",
    "        return math.sqrt((self.p2.x - self.p1.x) ** 2 + (self.p2.y - self.p1.y) ** 2)\n",
    "\n",
    "    def slope(self):\n",
    "        'Calculating the slope of the segment'\n",
    "        if self.p2.x - self.p1.x != 0:\n",
    "            return (self.p2.y - self.p1.y) / (self.p2.x - self.p1.x)\n",
    "        return None"
   ]
  },
  {
   "cell_type": "code",
   "execution_count": 29,
   "id": "ba375a13-6e89-4b5b-a873-232a51eb9992",
   "metadata": {},
   "outputs": [
    {
     "data": {
      "text/plain": [
       "5.0"
      ]
     },
     "execution_count": 29,
     "metadata": {},
     "output_type": "execute_result"
    }
   ],
   "source": [
    ">>> p1 = Point(3,4)\n",
    ">>> p2 = Point()\n",
    ">>> s = Segment(p1,p2)\n",
    ">>> s.length()"
   ]
  },
  {
   "cell_type": "code",
   "execution_count": 30,
   "id": "a9a472aa-2622-485c-ad91-7de8aecabf14",
   "metadata": {},
   "outputs": [
    {
     "name": "stdout",
     "output_type": "stream",
     "text": [
      "1.3333333333333333\n"
     ]
    }
   ],
   "source": [
    "print(s.slope())"
   ]
  },
  {
   "cell_type": "code",
   "execution_count": null,
   "id": "ea8e3b3e-5839-4bd5-a338-6a6eb6dc85c9",
   "metadata": {},
   "outputs": [],
   "source": []
  }
 ],
 "metadata": {
  "kernelspec": {
   "display_name": "Python 3 (ipykernel)",
   "language": "python",
   "name": "python3"
  },
  "language_info": {
   "codemirror_mode": {
    "name": "ipython",
    "version": 3
   },
   "file_extension": ".py",
   "mimetype": "text/x-python",
   "name": "python",
   "nbconvert_exporter": "python",
   "pygments_lexer": "ipython3",
   "version": "3.11.7"
  }
 },
 "nbformat": 4,
 "nbformat_minor": 5
}
